{
 "cells": [
  {
   "cell_type": "code",
   "execution_count": 1,
   "id": "e09a2a70",
   "metadata": {},
   "outputs": [],
   "source": [
    "import numpy as np\n",
    "from qea import PSO, PSOParams\n"
   ]
  },
  {
   "cell_type": "code",
   "execution_count": 2,
   "id": "0a4e5cd4",
   "metadata": {},
   "outputs": [],
   "source": [
    "def fitness_func(solution):\n",
    "    return sum(np.power((solution + 0.5), 2))\n",
    "\n",
    "fitnesses = []\n",
    "def on_generation(gen, solutions, best_solution, params):\n",
    "    fitnesses.append(params.fitness_func(best_solution))\n",
    "\n",
    "        \n",
    "model = PSO(PSOParams(\n",
    "    num_generations=500,\n",
    "    fitness_func=fitness_func,\n",
    "    num_solutions=10,\n",
    "    num_dimensions=2,\n",
    "    on_generation=on_generation,\n",
    "    random_state=1,\n",
    "    bound_low=-10,\n",
    "    bound_high=10,\n",
    "))\n",
    "model.run()"
   ]
  },
  {
   "cell_type": "code",
   "execution_count": 3,
   "id": "8202169c",
   "metadata": {},
   "outputs": [],
   "source": [
    "import matplotlib.pyplot as plt"
   ]
  },
  {
   "cell_type": "code",
   "execution_count": 4,
   "id": "e1d0a0c6",
   "metadata": {},
   "outputs": [
    {
     "data": {
      "text/plain": [
       "[<matplotlib.lines.Line2D at 0x165864bedc0>]"
      ]
     },
     "execution_count": 4,
     "metadata": {},
     "output_type": "execute_result"
    },
    {
     "data": {
      "image/png": "[encoded data removed]",
      "text/plain": [
       "<Figure size 432x288 with 1 Axes>"
      ]
     },
     "metadata": {
      "needs_background": "light"
     },
     "output_type": "display_data"
    }
   ],
   "source": [
    "plt.plot(list(range(0, 500)), fitnesses)"
   ]
  }
 ],
 "metadata": {
  "kernelspec": {
   "display_name": "Python 3",
   "language": "python",
   "name": "python3"
  },
  "language_info": {
   "codemirror_mode": {
    "name": "ipython",
    "version": 3
   },
   "file_extension": ".py",
   "mimetype": "text/x-python",
   "name": "python",
   "nbconvert_exporter": "python",
   "pygments_lexer": "ipython3",
   "version": "3.9.5"
  }
 },
 "nbformat": 4,
 "nbformat_minor": 5
}
