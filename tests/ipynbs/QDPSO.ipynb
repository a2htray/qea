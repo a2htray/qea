{
 "cells": [
  {
   "cell_type": "code",
   "execution_count": 1,
   "id": "7b656a77",
   "metadata": {},
   "outputs": [],
   "source": [
    "import matplotlib.pyplot as plt\n",
    "import matplotlib.animation as animation\n",
    "import numpy as np\n",
    "from qea import QDPSO, QDPSOParams"
   ]
  },
  {
   "cell_type": "code",
   "execution_count": 2,
   "id": "bbc20934",
   "metadata": {},
   "outputs": [],
   "source": [
    "def fitness_func(solution):\n",
    "    return sum(np.power((solution + 0.5), 2))\n",
    "\n",
    "fitnesses = []\n",
    "def on_generation(gen, solutions, best_solution, params):\n",
    "    fitnesses.append(params.fitness_func(best_solution))\n",
    "\n",
    "        \n",
    "model = QDPSO(QDPSOParams(\n",
    "    num_generations=500,\n",
    "    fitness_func=fitness_func,\n",
    "    num_solutions=10,\n",
    "    num_dimensions=2,\n",
    "    on_generation=on_generation,\n",
    "    random_state=1,\n",
    "    bound_low=-10,\n",
    "    bound_high=10,\n",
    "))\n",
    "model.run()"
   ]
  },
  {
   "cell_type": "code",
   "execution_count": 3,
   "id": "d46d73f9",
   "metadata": {},
   "outputs": [
    {
     "data": {
      "text/plain": [
       "[<matplotlib.lines.Line2D at 0x1987a8cc310>]"
      ]
     },
     "execution_count": 3,
     "metadata": {},
     "output_type": "execute_result"
    },
    {
     "data": {
      "image/png": "[encoded data removed]",
      "text/plain": [
       "<Figure size 432x288 with 1 Axes>"
      ]
     },
     "metadata": {
      "needs_background": "light"
     },
     "output_type": "display_data"
    }
   ],
   "source": [
    "import matplotlib.pyplot as plt\n",
    "plt.plot(list(range(0, 500)), fitnesses)"
   ]
  },
  {
   "cell_type": "code",
   "execution_count": null,
   "id": "0e1a727b",
   "metadata": {},
   "outputs": [],
   "source": []
  }
 ],
 "metadata": {
  "kernelspec": {
   "display_name": "Python 3",
   "language": "python",
   "name": "python3"
  },
  "language_info": {
   "codemirror_mode": {
    "name": "ipython",
    "version": 3
   },
   "file_extension": ".py",
   "mimetype": "text/x-python",
   "name": "python",
   "nbconvert_exporter": "python",
   "pygments_lexer": "ipython3",
   "version": "3.9.5"
  }
 },
 "nbformat": 4,
 "nbformat_minor": 5
}
